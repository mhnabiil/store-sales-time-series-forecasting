{
  "cells": [
    {
      "cell_type": "markdown",
      "id": "8c6808a3",
      "metadata": {
        "id": "8c6808a3"
      },
      "source": [
        "## Importing Libraries"
      ]
    },
    {
      "cell_type": "code",
      "execution_count": null,
      "id": "dd876a24",
      "metadata": {
        "id": "dd876a24"
      },
      "outputs": [],
      "source": [
        "#For data preprocessing\n",
        "import pandas as pd\n",
        "import numpy as np\n",
        "import warnings\n",
        "warnings.filterwarnings('ignore')\n",
        "\n",
        "#To build visualizations\n",
        "from matplotlib.pyplot import figure\n",
        "import matplotlib.pyplot as plt\n"
      ]
    },
    {
      "cell_type": "markdown",
      "id": "31187b0e",
      "metadata": {
        "id": "31187b0e"
      },
      "source": [
        "## Data Loading"
      ]
    },
    {
      "cell_type": "code",
      "source": [
        "from google.colab import drive\n",
        "drive.mount('/content/drive')"
      ],
      "metadata": {
        "colab": {
          "base_uri": "https://localhost:8080/"
        },
        "id": "3PJnuqyMwuIY",
        "outputId": "c22f5eef-32cf-4642-d8e2-89c9ec2822a5"
      },
      "id": "3PJnuqyMwuIY",
      "execution_count": null,
      "outputs": [
        {
          "output_type": "stream",
          "name": "stdout",
          "text": [
            "Mounted at /content/drive\n"
          ]
        }
      ]
    },
    {
      "cell_type": "code",
      "source": [
        "%cd /content/drive/My Drive/Colab Notebooks/Project/store-sales-time-series-forecasting"
      ],
      "metadata": {
        "colab": {
          "base_uri": "https://localhost:8080/"
        },
        "id": "tkusLRZ6wuR7",
        "outputId": "25f630d0-c5bf-4853-dd4a-35968bd9976d"
      },
      "id": "tkusLRZ6wuR7",
      "execution_count": null,
      "outputs": [
        {
          "output_type": "stream",
          "name": "stdout",
          "text": [
            "/content/drive/My Drive/Colab Notebooks/Project/store-sales-time-series-forecasting\n"
          ]
        }
      ]
    },
    {
      "cell_type": "code",
      "execution_count": null,
      "id": "5cd35dc7",
      "metadata": {
        "id": "5cd35dc7"
      },
      "outputs": [],
      "source": [
        "train = pd.read_csv(\"train.csv\")\n",
        "stores = pd.read_csv(\"stores.csv\")\n",
        "oil = pd.read_csv(\"oil.csv\")\n",
        "transactions = pd.read_csv(\"transactions.csv\")\n",
        "holidays_events = pd.read_csv(\"holidays_events.csv\")\n",
        "test = pd.read_csv(\"test.csv\")"
      ]
    },
    {
      "cell_type": "code",
      "execution_count": null,
      "id": "hhsJ4FqUjGmJ",
      "metadata": {
        "colab": {
          "base_uri": "https://localhost:8080/",
          "height": 206
        },
        "id": "hhsJ4FqUjGmJ",
        "outputId": "086ce593-9a47-4f6e-dd6e-a819701d1cd1"
      },
      "outputs": [
        {
          "output_type": "execute_result",
          "data": {
            "text/plain": [
              "              id        date  store_nbr                      family     sales  \\\n",
              "3000883  3000883  2017-08-15          9                     POULTRY   438.133   \n",
              "3000884  3000884  2017-08-15          9              PREPARED FOODS   154.553   \n",
              "3000885  3000885  2017-08-15          9                     PRODUCE  2419.729   \n",
              "3000886  3000886  2017-08-15          9  SCHOOL AND OFFICE SUPPLIES   121.000   \n",
              "3000887  3000887  2017-08-15          9                     SEAFOOD    16.000   \n",
              "\n",
              "         onpromotion  \n",
              "3000883            0  \n",
              "3000884            1  \n",
              "3000885          148  \n",
              "3000886            8  \n",
              "3000887            0  "
            ],
            "text/html": [
              "\n",
              "  <div id=\"df-14e47566-75f2-486d-aaab-56773e425025\">\n",
              "    <div class=\"colab-df-container\">\n",
              "      <div>\n",
              "<style scoped>\n",
              "    .dataframe tbody tr th:only-of-type {\n",
              "        vertical-align: middle;\n",
              "    }\n",
              "\n",
              "    .dataframe tbody tr th {\n",
              "        vertical-align: top;\n",
              "    }\n",
              "\n",
              "    .dataframe thead th {\n",
              "        text-align: right;\n",
              "    }\n",
              "</style>\n",
              "<table border=\"1\" class=\"dataframe\">\n",
              "  <thead>\n",
              "    <tr style=\"text-align: right;\">\n",
              "      <th></th>\n",
              "      <th>id</th>\n",
              "      <th>date</th>\n",
              "      <th>store_nbr</th>\n",
              "      <th>family</th>\n",
              "      <th>sales</th>\n",
              "      <th>onpromotion</th>\n",
              "    </tr>\n",
              "  </thead>\n",
              "  <tbody>\n",
              "    <tr>\n",
              "      <th>3000883</th>\n",
              "      <td>3000883</td>\n",
              "      <td>2017-08-15</td>\n",
              "      <td>9</td>\n",
              "      <td>POULTRY</td>\n",
              "      <td>438.133</td>\n",
              "      <td>0</td>\n",
              "    </tr>\n",
              "    <tr>\n",
              "      <th>3000884</th>\n",
              "      <td>3000884</td>\n",
              "      <td>2017-08-15</td>\n",
              "      <td>9</td>\n",
              "      <td>PREPARED FOODS</td>\n",
              "      <td>154.553</td>\n",
              "      <td>1</td>\n",
              "    </tr>\n",
              "    <tr>\n",
              "      <th>3000885</th>\n",
              "      <td>3000885</td>\n",
              "      <td>2017-08-15</td>\n",
              "      <td>9</td>\n",
              "      <td>PRODUCE</td>\n",
              "      <td>2419.729</td>\n",
              "      <td>148</td>\n",
              "    </tr>\n",
              "    <tr>\n",
              "      <th>3000886</th>\n",
              "      <td>3000886</td>\n",
              "      <td>2017-08-15</td>\n",
              "      <td>9</td>\n",
              "      <td>SCHOOL AND OFFICE SUPPLIES</td>\n",
              "      <td>121.000</td>\n",
              "      <td>8</td>\n",
              "    </tr>\n",
              "    <tr>\n",
              "      <th>3000887</th>\n",
              "      <td>3000887</td>\n",
              "      <td>2017-08-15</td>\n",
              "      <td>9</td>\n",
              "      <td>SEAFOOD</td>\n",
              "      <td>16.000</td>\n",
              "      <td>0</td>\n",
              "    </tr>\n",
              "  </tbody>\n",
              "</table>\n",
              "</div>\n",
              "      <button class=\"colab-df-convert\" onclick=\"convertToInteractive('df-14e47566-75f2-486d-aaab-56773e425025')\"\n",
              "              title=\"Convert this dataframe to an interactive table.\"\n",
              "              style=\"display:none;\">\n",
              "        \n",
              "  <svg xmlns=\"http://www.w3.org/2000/svg\" height=\"24px\"viewBox=\"0 0 24 24\"\n",
              "       width=\"24px\">\n",
              "    <path d=\"M0 0h24v24H0V0z\" fill=\"none\"/>\n",
              "    <path d=\"M18.56 5.44l.94 2.06.94-2.06 2.06-.94-2.06-.94-.94-2.06-.94 2.06-2.06.94zm-11 1L8.5 8.5l.94-2.06 2.06-.94-2.06-.94L8.5 2.5l-.94 2.06-2.06.94zm10 10l.94 2.06.94-2.06 2.06-.94-2.06-.94-.94-2.06-.94 2.06-2.06.94z\"/><path d=\"M17.41 7.96l-1.37-1.37c-.4-.4-.92-.59-1.43-.59-.52 0-1.04.2-1.43.59L10.3 9.45l-7.72 7.72c-.78.78-.78 2.05 0 2.83L4 21.41c.39.39.9.59 1.41.59.51 0 1.02-.2 1.41-.59l7.78-7.78 2.81-2.81c.8-.78.8-2.07 0-2.86zM5.41 20L4 18.59l7.72-7.72 1.47 1.35L5.41 20z\"/>\n",
              "  </svg>\n",
              "      </button>\n",
              "      \n",
              "  <style>\n",
              "    .colab-df-container {\n",
              "      display:flex;\n",
              "      flex-wrap:wrap;\n",
              "      gap: 12px;\n",
              "    }\n",
              "\n",
              "    .colab-df-convert {\n",
              "      background-color: #E8F0FE;\n",
              "      border: none;\n",
              "      border-radius: 50%;\n",
              "      cursor: pointer;\n",
              "      display: none;\n",
              "      fill: #1967D2;\n",
              "      height: 32px;\n",
              "      padding: 0 0 0 0;\n",
              "      width: 32px;\n",
              "    }\n",
              "\n",
              "    .colab-df-convert:hover {\n",
              "      background-color: #E2EBFA;\n",
              "      box-shadow: 0px 1px 2px rgba(60, 64, 67, 0.3), 0px 1px 3px 1px rgba(60, 64, 67, 0.15);\n",
              "      fill: #174EA6;\n",
              "    }\n",
              "\n",
              "    [theme=dark] .colab-df-convert {\n",
              "      background-color: #3B4455;\n",
              "      fill: #D2E3FC;\n",
              "    }\n",
              "\n",
              "    [theme=dark] .colab-df-convert:hover {\n",
              "      background-color: #434B5C;\n",
              "      box-shadow: 0px 1px 3px 1px rgba(0, 0, 0, 0.15);\n",
              "      filter: drop-shadow(0px 1px 2px rgba(0, 0, 0, 0.3));\n",
              "      fill: #FFFFFF;\n",
              "    }\n",
              "  </style>\n",
              "\n",
              "      <script>\n",
              "        const buttonEl =\n",
              "          document.querySelector('#df-14e47566-75f2-486d-aaab-56773e425025 button.colab-df-convert');\n",
              "        buttonEl.style.display =\n",
              "          google.colab.kernel.accessAllowed ? 'block' : 'none';\n",
              "\n",
              "        async function convertToInteractive(key) {\n",
              "          const element = document.querySelector('#df-14e47566-75f2-486d-aaab-56773e425025');\n",
              "          const dataTable =\n",
              "            await google.colab.kernel.invokeFunction('convertToInteractive',\n",
              "                                                     [key], {});\n",
              "          if (!dataTable) return;\n",
              "\n",
              "          const docLinkHtml = 'Like what you see? Visit the ' +\n",
              "            '<a target=\"_blank\" href=https://colab.research.google.com/notebooks/data_table.ipynb>data table notebook</a>'\n",
              "            + ' to learn more about interactive tables.';\n",
              "          element.innerHTML = '';\n",
              "          dataTable['output_type'] = 'display_data';\n",
              "          await google.colab.output.renderOutput(dataTable, element);\n",
              "          const docLink = document.createElement('div');\n",
              "          docLink.innerHTML = docLinkHtml;\n",
              "          element.appendChild(docLink);\n",
              "        }\n",
              "      </script>\n",
              "    </div>\n",
              "  </div>\n",
              "  "
            ]
          },
          "metadata": {},
          "execution_count": 5
        }
      ],
      "source": [
        "train.tail()"
      ]
    },
    {
      "cell_type": "code",
      "execution_count": null,
      "id": "6e3802f0",
      "metadata": {
        "id": "6e3802f0"
      },
      "outputs": [],
      "source": [
        "#Merge train data for analysis and modeling\n",
        "train = train.merge(stores, how=\"left\", on='store_nbr')   \n",
        "train = train.merge(oil, how=\"left\", on='date')      \n",
        "train = train.merge(transactions, how=\"left\", on=['date','store_nbr'])  \n",
        "train = train.merge(holidays_events,on='date',how='left')\n",
        "train = train.rename(columns={'type_x' : 'store_type','type_y':'holiday_type'})\n",
        "\n",
        "#Merge test data for analysis and modeling\n",
        "test = test.merge(stores, how=\"left\", on='store_nbr')   \n",
        "test = test.merge(oil, how=\"left\", on='date')      \n",
        "test = test.merge(holidays_events,on='date',how='left')\n",
        "test = test.rename(columns={'type_x' : 'store_type','type_y':'holiday_type'})"
      ]
    },
    {
      "cell_type": "code",
      "execution_count": null,
      "id": "19761bee",
      "metadata": {
        "colab": {
          "base_uri": "https://localhost:8080/",
          "height": 337
        },
        "id": "19761bee",
        "outputId": "195b6b1b-4f84-4f49-9f9a-ff41e3ae8a51"
      },
      "outputs": [
        {
          "output_type": "execute_result",
          "data": {
            "text/plain": [
              "              id        date  store_nbr                      family     sales  \\\n",
              "3054343  3000883  2017-08-15          9                     POULTRY   438.133   \n",
              "3054344  3000884  2017-08-15          9              PREPARED FOODS   154.553   \n",
              "3054345  3000885  2017-08-15          9                     PRODUCE  2419.729   \n",
              "3054346  3000886  2017-08-15          9  SCHOOL AND OFFICE SUPPLIES   121.000   \n",
              "3054347  3000887  2017-08-15          9                     SEAFOOD    16.000   \n",
              "\n",
              "         onpromotion   city      state store_type  cluster  dcoilwtico  \\\n",
              "3054343            0  Quito  Pichincha          B        6       47.57   \n",
              "3054344            1  Quito  Pichincha          B        6       47.57   \n",
              "3054345          148  Quito  Pichincha          B        6       47.57   \n",
              "3054346            8  Quito  Pichincha          B        6       47.57   \n",
              "3054347            0  Quito  Pichincha          B        6       47.57   \n",
              "\n",
              "         transactions holiday_type locale locale_name            description  \\\n",
              "3054343        2155.0      Holiday  Local    Riobamba  Fundacion de Riobamba   \n",
              "3054344        2155.0      Holiday  Local    Riobamba  Fundacion de Riobamba   \n",
              "3054345        2155.0      Holiday  Local    Riobamba  Fundacion de Riobamba   \n",
              "3054346        2155.0      Holiday  Local    Riobamba  Fundacion de Riobamba   \n",
              "3054347        2155.0      Holiday  Local    Riobamba  Fundacion de Riobamba   \n",
              "\n",
              "        transferred  \n",
              "3054343       False  \n",
              "3054344       False  \n",
              "3054345       False  \n",
              "3054346       False  \n",
              "3054347       False  "
            ],
            "text/html": [
              "\n",
              "  <div id=\"df-fb369b4c-cb7a-45fc-8904-31c9058acb02\">\n",
              "    <div class=\"colab-df-container\">\n",
              "      <div>\n",
              "<style scoped>\n",
              "    .dataframe tbody tr th:only-of-type {\n",
              "        vertical-align: middle;\n",
              "    }\n",
              "\n",
              "    .dataframe tbody tr th {\n",
              "        vertical-align: top;\n",
              "    }\n",
              "\n",
              "    .dataframe thead th {\n",
              "        text-align: right;\n",
              "    }\n",
              "</style>\n",
              "<table border=\"1\" class=\"dataframe\">\n",
              "  <thead>\n",
              "    <tr style=\"text-align: right;\">\n",
              "      <th></th>\n",
              "      <th>id</th>\n",
              "      <th>date</th>\n",
              "      <th>store_nbr</th>\n",
              "      <th>family</th>\n",
              "      <th>sales</th>\n",
              "      <th>onpromotion</th>\n",
              "      <th>city</th>\n",
              "      <th>state</th>\n",
              "      <th>store_type</th>\n",
              "      <th>cluster</th>\n",
              "      <th>dcoilwtico</th>\n",
              "      <th>transactions</th>\n",
              "      <th>holiday_type</th>\n",
              "      <th>locale</th>\n",
              "      <th>locale_name</th>\n",
              "      <th>description</th>\n",
              "      <th>transferred</th>\n",
              "    </tr>\n",
              "  </thead>\n",
              "  <tbody>\n",
              "    <tr>\n",
              "      <th>3054343</th>\n",
              "      <td>3000883</td>\n",
              "      <td>2017-08-15</td>\n",
              "      <td>9</td>\n",
              "      <td>POULTRY</td>\n",
              "      <td>438.133</td>\n",
              "      <td>0</td>\n",
              "      <td>Quito</td>\n",
              "      <td>Pichincha</td>\n",
              "      <td>B</td>\n",
              "      <td>6</td>\n",
              "      <td>47.57</td>\n",
              "      <td>2155.0</td>\n",
              "      <td>Holiday</td>\n",
              "      <td>Local</td>\n",
              "      <td>Riobamba</td>\n",
              "      <td>Fundacion de Riobamba</td>\n",
              "      <td>False</td>\n",
              "    </tr>\n",
              "    <tr>\n",
              "      <th>3054344</th>\n",
              "      <td>3000884</td>\n",
              "      <td>2017-08-15</td>\n",
              "      <td>9</td>\n",
              "      <td>PREPARED FOODS</td>\n",
              "      <td>154.553</td>\n",
              "      <td>1</td>\n",
              "      <td>Quito</td>\n",
              "      <td>Pichincha</td>\n",
              "      <td>B</td>\n",
              "      <td>6</td>\n",
              "      <td>47.57</td>\n",
              "      <td>2155.0</td>\n",
              "      <td>Holiday</td>\n",
              "      <td>Local</td>\n",
              "      <td>Riobamba</td>\n",
              "      <td>Fundacion de Riobamba</td>\n",
              "      <td>False</td>\n",
              "    </tr>\n",
              "    <tr>\n",
              "      <th>3054345</th>\n",
              "      <td>3000885</td>\n",
              "      <td>2017-08-15</td>\n",
              "      <td>9</td>\n",
              "      <td>PRODUCE</td>\n",
              "      <td>2419.729</td>\n",
              "      <td>148</td>\n",
              "      <td>Quito</td>\n",
              "      <td>Pichincha</td>\n",
              "      <td>B</td>\n",
              "      <td>6</td>\n",
              "      <td>47.57</td>\n",
              "      <td>2155.0</td>\n",
              "      <td>Holiday</td>\n",
              "      <td>Local</td>\n",
              "      <td>Riobamba</td>\n",
              "      <td>Fundacion de Riobamba</td>\n",
              "      <td>False</td>\n",
              "    </tr>\n",
              "    <tr>\n",
              "      <th>3054346</th>\n",
              "      <td>3000886</td>\n",
              "      <td>2017-08-15</td>\n",
              "      <td>9</td>\n",
              "      <td>SCHOOL AND OFFICE SUPPLIES</td>\n",
              "      <td>121.000</td>\n",
              "      <td>8</td>\n",
              "      <td>Quito</td>\n",
              "      <td>Pichincha</td>\n",
              "      <td>B</td>\n",
              "      <td>6</td>\n",
              "      <td>47.57</td>\n",
              "      <td>2155.0</td>\n",
              "      <td>Holiday</td>\n",
              "      <td>Local</td>\n",
              "      <td>Riobamba</td>\n",
              "      <td>Fundacion de Riobamba</td>\n",
              "      <td>False</td>\n",
              "    </tr>\n",
              "    <tr>\n",
              "      <th>3054347</th>\n",
              "      <td>3000887</td>\n",
              "      <td>2017-08-15</td>\n",
              "      <td>9</td>\n",
              "      <td>SEAFOOD</td>\n",
              "      <td>16.000</td>\n",
              "      <td>0</td>\n",
              "      <td>Quito</td>\n",
              "      <td>Pichincha</td>\n",
              "      <td>B</td>\n",
              "      <td>6</td>\n",
              "      <td>47.57</td>\n",
              "      <td>2155.0</td>\n",
              "      <td>Holiday</td>\n",
              "      <td>Local</td>\n",
              "      <td>Riobamba</td>\n",
              "      <td>Fundacion de Riobamba</td>\n",
              "      <td>False</td>\n",
              "    </tr>\n",
              "  </tbody>\n",
              "</table>\n",
              "</div>\n",
              "      <button class=\"colab-df-convert\" onclick=\"convertToInteractive('df-fb369b4c-cb7a-45fc-8904-31c9058acb02')\"\n",
              "              title=\"Convert this dataframe to an interactive table.\"\n",
              "              style=\"display:none;\">\n",
              "        \n",
              "  <svg xmlns=\"http://www.w3.org/2000/svg\" height=\"24px\"viewBox=\"0 0 24 24\"\n",
              "       width=\"24px\">\n",
              "    <path d=\"M0 0h24v24H0V0z\" fill=\"none\"/>\n",
              "    <path d=\"M18.56 5.44l.94 2.06.94-2.06 2.06-.94-2.06-.94-.94-2.06-.94 2.06-2.06.94zm-11 1L8.5 8.5l.94-2.06 2.06-.94-2.06-.94L8.5 2.5l-.94 2.06-2.06.94zm10 10l.94 2.06.94-2.06 2.06-.94-2.06-.94-.94-2.06-.94 2.06-2.06.94z\"/><path d=\"M17.41 7.96l-1.37-1.37c-.4-.4-.92-.59-1.43-.59-.52 0-1.04.2-1.43.59L10.3 9.45l-7.72 7.72c-.78.78-.78 2.05 0 2.83L4 21.41c.39.39.9.59 1.41.59.51 0 1.02-.2 1.41-.59l7.78-7.78 2.81-2.81c.8-.78.8-2.07 0-2.86zM5.41 20L4 18.59l7.72-7.72 1.47 1.35L5.41 20z\"/>\n",
              "  </svg>\n",
              "      </button>\n",
              "      \n",
              "  <style>\n",
              "    .colab-df-container {\n",
              "      display:flex;\n",
              "      flex-wrap:wrap;\n",
              "      gap: 12px;\n",
              "    }\n",
              "\n",
              "    .colab-df-convert {\n",
              "      background-color: #E8F0FE;\n",
              "      border: none;\n",
              "      border-radius: 50%;\n",
              "      cursor: pointer;\n",
              "      display: none;\n",
              "      fill: #1967D2;\n",
              "      height: 32px;\n",
              "      padding: 0 0 0 0;\n",
              "      width: 32px;\n",
              "    }\n",
              "\n",
              "    .colab-df-convert:hover {\n",
              "      background-color: #E2EBFA;\n",
              "      box-shadow: 0px 1px 2px rgba(60, 64, 67, 0.3), 0px 1px 3px 1px rgba(60, 64, 67, 0.15);\n",
              "      fill: #174EA6;\n",
              "    }\n",
              "\n",
              "    [theme=dark] .colab-df-convert {\n",
              "      background-color: #3B4455;\n",
              "      fill: #D2E3FC;\n",
              "    }\n",
              "\n",
              "    [theme=dark] .colab-df-convert:hover {\n",
              "      background-color: #434B5C;\n",
              "      box-shadow: 0px 1px 3px 1px rgba(0, 0, 0, 0.15);\n",
              "      filter: drop-shadow(0px 1px 2px rgba(0, 0, 0, 0.3));\n",
              "      fill: #FFFFFF;\n",
              "    }\n",
              "  </style>\n",
              "\n",
              "      <script>\n",
              "        const buttonEl =\n",
              "          document.querySelector('#df-fb369b4c-cb7a-45fc-8904-31c9058acb02 button.colab-df-convert');\n",
              "        buttonEl.style.display =\n",
              "          google.colab.kernel.accessAllowed ? 'block' : 'none';\n",
              "\n",
              "        async function convertToInteractive(key) {\n",
              "          const element = document.querySelector('#df-fb369b4c-cb7a-45fc-8904-31c9058acb02');\n",
              "          const dataTable =\n",
              "            await google.colab.kernel.invokeFunction('convertToInteractive',\n",
              "                                                     [key], {});\n",
              "          if (!dataTable) return;\n",
              "\n",
              "          const docLinkHtml = 'Like what you see? Visit the ' +\n",
              "            '<a target=\"_blank\" href=https://colab.research.google.com/notebooks/data_table.ipynb>data table notebook</a>'\n",
              "            + ' to learn more about interactive tables.';\n",
              "          element.innerHTML = '';\n",
              "          dataTable['output_type'] = 'display_data';\n",
              "          await google.colab.output.renderOutput(dataTable, element);\n",
              "          const docLink = document.createElement('div');\n",
              "          docLink.innerHTML = docLinkHtml;\n",
              "          element.appendChild(docLink);\n",
              "        }\n",
              "      </script>\n",
              "    </div>\n",
              "  </div>\n",
              "  "
            ]
          },
          "metadata": {},
          "execution_count": 7
        }
      ],
      "source": [
        "train.tail()"
      ]
    },
    {
      "cell_type": "code",
      "execution_count": null,
      "id": "36ad0d70",
      "metadata": {
        "colab": {
          "base_uri": "https://localhost:8080/"
        },
        "id": "36ad0d70",
        "outputId": "3c5a921c-2bc3-490e-b183-3e6c20ecdea7"
      },
      "outputs": [
        {
          "output_type": "execute_result",
          "data": {
            "text/plain": [
              "id                    0\n",
              "date                  0\n",
              "store_nbr             0\n",
              "family                0\n",
              "sales                 0\n",
              "onpromotion           0\n",
              "city                  0\n",
              "state                 0\n",
              "store_type            0\n",
              "cluster               0\n",
              "dcoilwtico       955152\n",
              "transactions     249117\n",
              "holiday_type    2551824\n",
              "locale          2551824\n",
              "locale_name     2551824\n",
              "description     2551824\n",
              "transferred     2551824\n",
              "dtype: int64"
            ]
          },
          "metadata": {},
          "execution_count": 8
        }
      ],
      "source": [
        "train.isnull().sum()"
      ]
    },
    {
      "cell_type": "code",
      "execution_count": null,
      "id": "81d5cb2a",
      "metadata": {
        "colab": {
          "base_uri": "https://localhost:8080/"
        },
        "id": "81d5cb2a",
        "outputId": "8b544111-2072-4e18-dee1-1116cd1fde4d"
      },
      "outputs": [
        {
          "output_type": "execute_result",
          "data": {
            "text/plain": [
              "id                  0\n",
              "date                0\n",
              "store_nbr           0\n",
              "family              0\n",
              "onpromotion         0\n",
              "city                0\n",
              "state               0\n",
              "store_type          0\n",
              "cluster             0\n",
              "dcoilwtico       7128\n",
              "holiday_type    26730\n",
              "locale          26730\n",
              "locale_name     26730\n",
              "description     26730\n",
              "transferred     26730\n",
              "dtype: int64"
            ]
          },
          "metadata": {},
          "execution_count": 10
        }
      ],
      "source": [
        "test.isnull().sum()"
      ]
    },
    {
      "cell_type": "code",
      "execution_count": null,
      "id": "nSMxzDFYthf3",
      "metadata": {
        "colab": {
          "base_uri": "https://localhost:8080/"
        },
        "id": "nSMxzDFYthf3",
        "outputId": "d8da167e-6657-448d-9234-18604371f357"
      },
      "outputs": [
        {
          "output_type": "stream",
          "name": "stdout",
          "text": [
            "<class 'pandas.core.frame.DataFrame'>\n",
            "Int64Index: 28512 entries, 0 to 28511\n",
            "Data columns (total 15 columns):\n",
            " #   Column        Non-Null Count  Dtype  \n",
            "---  ------        --------------  -----  \n",
            " 0   id            28512 non-null  int64  \n",
            " 1   date          28512 non-null  object \n",
            " 2   store_nbr     28512 non-null  int64  \n",
            " 3   family        28512 non-null  object \n",
            " 4   onpromotion   28512 non-null  int64  \n",
            " 5   city          28512 non-null  object \n",
            " 6   state         28512 non-null  object \n",
            " 7   store_type    28512 non-null  object \n",
            " 8   cluster       28512 non-null  int64  \n",
            " 9   dcoilwtico    21384 non-null  float64\n",
            " 10  holiday_type  1782 non-null   object \n",
            " 11  locale        1782 non-null   object \n",
            " 12  locale_name   1782 non-null   object \n",
            " 13  description   1782 non-null   object \n",
            " 14  transferred   1782 non-null   object \n",
            "dtypes: float64(1), int64(4), object(10)\n",
            "memory usage: 3.5+ MB\n"
          ]
        }
      ],
      "source": [
        "test.info()"
      ]
    },
    {
      "cell_type": "code",
      "execution_count": null,
      "id": "f33a3759",
      "metadata": {
        "colab": {
          "base_uri": "https://localhost:8080/"
        },
        "id": "f33a3759",
        "outputId": "af5e212e-293e-4516-fe38-26f6f9aeaad5"
      },
      "outputs": [
        {
          "output_type": "stream",
          "name": "stdout",
          "text": [
            "Duplicate records in train: 0\n",
            "Duplicate records in test: 0\n"
          ]
        }
      ],
      "source": [
        "dup = train[train.duplicated(subset=train.columns.tolist(), keep=False)]\n",
        "print(f\"Duplicate records in train: {dup.shape[0]}\")\n",
        "\n",
        "dup = test[test.duplicated(subset=test.columns.tolist(), keep=False)]\n",
        "print(f\"Duplicate records in test: {dup.shape[0]}\")"
      ]
    },
    {
      "cell_type": "code",
      "execution_count": null,
      "id": "c458e06f",
      "metadata": {
        "colab": {
          "base_uri": "https://localhost:8080/",
          "height": 68
        },
        "id": "c458e06f",
        "outputId": "8426e668-88bf-4de7-a4b5-e1c523061c14"
      },
      "outputs": [
        {
          "output_type": "stream",
          "name": "stdout",
          "text": [
            "Leakage records: 0\n"
          ]
        },
        {
          "output_type": "execute_result",
          "data": {
            "text/plain": [
              "Empty DataFrame\n",
              "Columns: [id, date, store_nbr, family, sales, onpromotion, city, state, store_type, cluster, dcoilwtico, transactions, holiday_type, locale, locale_name, description, transferred]\n",
              "Index: []"
            ],
            "text/html": [
              "\n",
              "  <div id=\"df-8099262a-4838-4f88-8ae1-27d840d87afb\">\n",
              "    <div class=\"colab-df-container\">\n",
              "      <div>\n",
              "<style scoped>\n",
              "    .dataframe tbody tr th:only-of-type {\n",
              "        vertical-align: middle;\n",
              "    }\n",
              "\n",
              "    .dataframe tbody tr th {\n",
              "        vertical-align: top;\n",
              "    }\n",
              "\n",
              "    .dataframe thead th {\n",
              "        text-align: right;\n",
              "    }\n",
              "</style>\n",
              "<table border=\"1\" class=\"dataframe\">\n",
              "  <thead>\n",
              "    <tr style=\"text-align: right;\">\n",
              "      <th></th>\n",
              "      <th>id</th>\n",
              "      <th>date</th>\n",
              "      <th>store_nbr</th>\n",
              "      <th>family</th>\n",
              "      <th>sales</th>\n",
              "      <th>onpromotion</th>\n",
              "      <th>city</th>\n",
              "      <th>state</th>\n",
              "      <th>store_type</th>\n",
              "      <th>cluster</th>\n",
              "      <th>dcoilwtico</th>\n",
              "      <th>transactions</th>\n",
              "      <th>holiday_type</th>\n",
              "      <th>locale</th>\n",
              "      <th>locale_name</th>\n",
              "      <th>description</th>\n",
              "      <th>transferred</th>\n",
              "    </tr>\n",
              "  </thead>\n",
              "  <tbody>\n",
              "  </tbody>\n",
              "</table>\n",
              "</div>\n",
              "      <button class=\"colab-df-convert\" onclick=\"convertToInteractive('df-8099262a-4838-4f88-8ae1-27d840d87afb')\"\n",
              "              title=\"Convert this dataframe to an interactive table.\"\n",
              "              style=\"display:none;\">\n",
              "        \n",
              "  <svg xmlns=\"http://www.w3.org/2000/svg\" height=\"24px\"viewBox=\"0 0 24 24\"\n",
              "       width=\"24px\">\n",
              "    <path d=\"M0 0h24v24H0V0z\" fill=\"none\"/>\n",
              "    <path d=\"M18.56 5.44l.94 2.06.94-2.06 2.06-.94-2.06-.94-.94-2.06-.94 2.06-2.06.94zm-11 1L8.5 8.5l.94-2.06 2.06-.94-2.06-.94L8.5 2.5l-.94 2.06-2.06.94zm10 10l.94 2.06.94-2.06 2.06-.94-2.06-.94-.94-2.06-.94 2.06-2.06.94z\"/><path d=\"M17.41 7.96l-1.37-1.37c-.4-.4-.92-.59-1.43-.59-.52 0-1.04.2-1.43.59L10.3 9.45l-7.72 7.72c-.78.78-.78 2.05 0 2.83L4 21.41c.39.39.9.59 1.41.59.51 0 1.02-.2 1.41-.59l7.78-7.78 2.81-2.81c.8-.78.8-2.07 0-2.86zM5.41 20L4 18.59l7.72-7.72 1.47 1.35L5.41 20z\"/>\n",
              "  </svg>\n",
              "      </button>\n",
              "      \n",
              "  <style>\n",
              "    .colab-df-container {\n",
              "      display:flex;\n",
              "      flex-wrap:wrap;\n",
              "      gap: 12px;\n",
              "    }\n",
              "\n",
              "    .colab-df-convert {\n",
              "      background-color: #E8F0FE;\n",
              "      border: none;\n",
              "      border-radius: 50%;\n",
              "      cursor: pointer;\n",
              "      display: none;\n",
              "      fill: #1967D2;\n",
              "      height: 32px;\n",
              "      padding: 0 0 0 0;\n",
              "      width: 32px;\n",
              "    }\n",
              "\n",
              "    .colab-df-convert:hover {\n",
              "      background-color: #E2EBFA;\n",
              "      box-shadow: 0px 1px 2px rgba(60, 64, 67, 0.3), 0px 1px 3px 1px rgba(60, 64, 67, 0.15);\n",
              "      fill: #174EA6;\n",
              "    }\n",
              "\n",
              "    [theme=dark] .colab-df-convert {\n",
              "      background-color: #3B4455;\n",
              "      fill: #D2E3FC;\n",
              "    }\n",
              "\n",
              "    [theme=dark] .colab-df-convert:hover {\n",
              "      background-color: #434B5C;\n",
              "      box-shadow: 0px 1px 3px 1px rgba(0, 0, 0, 0.15);\n",
              "      filter: drop-shadow(0px 1px 2px rgba(0, 0, 0, 0.3));\n",
              "      fill: #FFFFFF;\n",
              "    }\n",
              "  </style>\n",
              "\n",
              "      <script>\n",
              "        const buttonEl =\n",
              "          document.querySelector('#df-8099262a-4838-4f88-8ae1-27d840d87afb button.colab-df-convert');\n",
              "        buttonEl.style.display =\n",
              "          google.colab.kernel.accessAllowed ? 'block' : 'none';\n",
              "\n",
              "        async function convertToInteractive(key) {\n",
              "          const element = document.querySelector('#df-8099262a-4838-4f88-8ae1-27d840d87afb');\n",
              "          const dataTable =\n",
              "            await google.colab.kernel.invokeFunction('convertToInteractive',\n",
              "                                                     [key], {});\n",
              "          if (!dataTable) return;\n",
              "\n",
              "          const docLinkHtml = 'Like what you see? Visit the ' +\n",
              "            '<a target=\"_blank\" href=https://colab.research.google.com/notebooks/data_table.ipynb>data table notebook</a>'\n",
              "            + ' to learn more about interactive tables.';\n",
              "          element.innerHTML = '';\n",
              "          dataTable['output_type'] = 'display_data';\n",
              "          await google.colab.output.renderOutput(dataTable, element);\n",
              "          const docLink = document.createElement('div');\n",
              "          docLink.innerHTML = docLinkHtml;\n",
              "          element.appendChild(docLink);\n",
              "        }\n",
              "      </script>\n",
              "    </div>\n",
              "  </div>\n",
              "  "
            ]
          },
          "metadata": {},
          "execution_count": 12
        }
      ],
      "source": [
        "common_df = pd.merge(\n",
        "    train,\n",
        "    test,\n",
        "    how='inner',\n",
        "    on=test.columns.tolist()\n",
        ")\n",
        "\n",
        "print(f\"Leakage records: {common_df.shape[0]}\")\n",
        "common_df.head()"
      ]
    },
    {
      "cell_type": "markdown",
      "id": "ad258ee3",
      "metadata": {
        "id": "ad258ee3"
      },
      "source": [
        "## Missing Values Handling"
      ]
    },
    {
      "cell_type": "code",
      "execution_count": null,
      "id": "pZ0uIBXswobY",
      "metadata": {
        "id": "pZ0uIBXswobY"
      },
      "outputs": [],
      "source": [
        "train.dropna(subset=['store_nbr'], axis=0, inplace=True)"
      ]
    },
    {
      "cell_type": "markdown",
      "id": "4418624a",
      "metadata": {
        "id": "4418624a"
      },
      "source": [
        "### 1.1 Oil Price"
      ]
    },
    {
      "cell_type": "code",
      "execution_count": null,
      "id": "3c4d6e16",
      "metadata": {
        "id": "3c4d6e16",
        "colab": {
          "base_uri": "https://localhost:8080/",
          "height": 336
        },
        "outputId": "a49aba3f-aefa-4494-d32a-09981e54e496"
      },
      "outputs": [
        {
          "output_type": "display_data",
          "data": {
            "text/plain": [
              "<Figure size 1440x360 with 1 Axes>"
            ],
            "image/png": "[encoded data removed]"
          },
          "metadata": {
            "needs_background": "light"
          }
        }
      ],
      "source": [
        "oil_mis = train.set_index(\"date\").dcoilwtico.resample(\"D\").mean().reset_index()\n",
        "plt.rcParams['figure.figsize'] = (20, 5)\n",
        "plt.title('Oil Price')\n",
        "plt.ylabel('dcoilwtico')\n",
        "plt.plot(oil_mis['date'],oil_mis['dcoilwtico']);"
      ]
    },
    {
      "cell_type": "code",
      "execution_count": null,
      "id": "d2c88ac4",
      "metadata": {
        "id": "d2c88ac4",
        "colab": {
          "base_uri": "https://localhost:8080/"
        },
        "outputId": "98d9e22f-0b6e-4f80-ebe8-5c26ed0051d1"
      },
      "outputs": [
        {
          "output_type": "execute_result",
          "data": {
            "text/plain": [
              "0"
            ]
          },
          "metadata": {},
          "execution_count": 16
        }
      ],
      "source": [
        "train['dcoilwtico'] = train['dcoilwtico'].fillna(method='bfill')\n",
        "\n",
        "test['dcoilwtico'] = test['dcoilwtico'].fillna(method='bfill')"
      ]
    },
    {
      "cell_type": "markdown",
      "id": "2657e2a4",
      "metadata": {
        "id": "2657e2a4"
      },
      "source": [
        "### 1.2 Transactions"
      ]
    },
    {
      "cell_type": "code",
      "execution_count": null,
      "id": "8260c850",
      "metadata": {
        "id": "8260c850"
      },
      "outputs": [],
      "source": [
        "train.transactions = train.transactions.replace(np.nan,0)"
      ]
    },
    {
      "cell_type": "markdown",
      "id": "558fb1d1",
      "metadata": {
        "id": "558fb1d1"
      },
      "source": [
        "### 1.3 Holiday Events"
      ]
    },
    {
      "cell_type": "code",
      "execution_count": null,
      "id": "8d30bee2",
      "metadata": {
        "id": "8d30bee2"
      },
      "outputs": [],
      "source": [
        "#Missing value handling for holiday and event columns in train data\n",
        "train[['locale','locale_name', 'description']] = train[['locale','locale_name', 'description']].replace(np.nan,'')\n",
        "train['holiday_type'] = train['holiday_type'].replace(np.nan,'Work Day')\n",
        "train['transferred'] = train['transferred'].replace(np.nan,False)\n",
        "\n",
        "#Missing value handling for holiday and event columns in test\n",
        "test[['locale','locale_name', 'description']] = test[['locale','locale_name', 'description']].replace(np.nan,'')\n",
        "test['holiday_type'] = test['holiday_type'].replace(np.nan,'Work Day')\n",
        "test['transferred'] = test['transferred'].replace(np.nan,False)"
      ]
    },
    {
      "cell_type": "markdown",
      "id": "002a8112",
      "metadata": {
        "id": "002a8112"
      },
      "source": [
        "# Feature Engineering"
      ]
    },
    {
      "cell_type": "markdown",
      "id": "9e0d1b93",
      "metadata": {
        "id": "9e0d1b93"
      },
      "source": [
        "## Extracting date information"
      ]
    },
    {
      "cell_type": "code",
      "execution_count": null,
      "id": "76c3099d",
      "metadata": {
        "id": "76c3099d"
      },
      "outputs": [],
      "source": [
        "#Exctracting date information from train data\n",
        "train['date'] = pd.to_datetime(train['date'])\n",
        "train['Quarter'] = train['date'].apply(lambda x: pd.to_datetime(x).quarter)\n",
        "train['Week'] = train['date'].apply(lambda x: pd.to_datetime(x).week)\n",
        "train['DayofWeek'] = train['date'].apply(lambda x: pd.to_datetime(x).dayofweek)\n",
        "train['isWeekend'] = np.where(train['DayofWeek'].isin([5,6]),1,0)\n",
        "train['Month'] = train['date'].apply(lambda x: pd.to_datetime(x).month)\n",
        "train['Year'] = train['date'].apply(lambda x: pd.to_datetime(x).year)\n",
        "train['Day'] = train['date'].apply(lambda x: pd.to_datetime(x).day)\n",
        "train['season'] = train['Month'].apply(lambda x: 0 if x in [2,3] else 1 if x in [4,5,6] else 2 if x in [7,8] else 3 if x in [9,10,11] else 4)\n",
        "\n",
        "#Exctracting date information from test data\n",
        "test['date'] = pd.to_datetime(train['date'])\n",
        "test['Quarter'] = test['date'].apply(lambda x: pd.to_datetime(x).quarter)\n",
        "test['Week'] = test['date'].apply(lambda x: pd.to_datetime(x).week)\n",
        "test['DayofWeek'] = test['date'].apply(lambda x: pd.to_datetime(x).dayofweek)\n",
        "test['isWeekend'] = np.where(test['DayofWeek'].isin([5,6]),1,0)\n",
        "test['Month'] = test['date'].apply(lambda x: pd.to_datetime(x).month)\n",
        "test['Year'] = test['date'].apply(lambda x: pd.to_datetime(x).year)\n",
        "test['Day'] = test['date'].apply(lambda x: pd.to_datetime(x).day)\n",
        "test['season'] = test['Month'].apply(lambda x: 0 if x in [2,3] else 1 if x in [4,5,6] else 2 if x in [7,8] else 3 if x in [9,10,11] else 4)\n"
      ]
    },
    {
      "cell_type": "code",
      "execution_count": null,
      "id": "JPM5If0rMmph",
      "metadata": {
        "id": "JPM5If0rMmph"
      },
      "outputs": [],
      "source": [
        "#Created a new feature, the length of the day leading to thanksgiving and christmas on train data\n",
        "train['Days_to_Thansksgiving'] = (pd.to_datetime(train[\"Year\"].astype(str)+\"-11-24\", format=\"%Y-%m-%d\") - pd.to_datetime(train[\"date\"], format=\"%Y-%m-%d\")).dt.days.astype(int)\n",
        "train['Days_to_Christmas'] = (pd.to_datetime(train[\"Year\"].astype(str)+\"-12-24\", format=\"%Y-%m-%d\") - pd.to_datetime(train[\"date\"], format=\"%Y-%m-%d\")).dt.days.astype(int)\n",
        "\n",
        "#Created a new feature, the length of the day leading to thanksgiving and christmas on test data\n",
        "test['Days_to_Thansksgiving'] = (pd.to_datetime(test[\"Year\"].astype(str)+\"-11-24\", format=\"%Y-%m-%d\") - pd.to_datetime(test[\"date\"], format=\"%Y-%m-%d\")).dt.days.astype(int)\n",
        "test['Days_to_Christmas'] = (pd.to_datetime(test[\"Year\"].astype(str)+\"-12-24\", format=\"%Y-%m-%d\") - pd.to_datetime(test[\"date\"], format=\"%Y-%m-%d\")).dt.days.astype(int)"
      ]
    },
    {
      "cell_type": "code",
      "execution_count": null,
      "id": "4uDfjXJ4_u5V",
      "metadata": {
        "id": "4uDfjXJ4_u5V"
      },
      "outputs": [],
      "source": [
        "#Log value of sales to avoid negative predicted sales value\n",
        "train['log_sales'] = np.log(train['sales']+0.001)"
      ]
    },
    {
      "cell_type": "markdown",
      "id": "ded4b0be",
      "metadata": {
        "id": "ded4b0be"
      },
      "source": [
        "## Categorical data encoding"
      ]
    },
    {
      "cell_type": "code",
      "execution_count": null,
      "id": "Gcnmk4Xg6kL2",
      "metadata": {
        "id": "Gcnmk4Xg6kL2"
      },
      "outputs": [],
      "source": [
        "#Encoding store type column to an ordinal feature based on sales\n",
        "storetype_values = {'A':5, 'D':4, 'B':3, 'E':2, 'C':1}\n",
        "train['store_type'] = train.store_type.map(storetype_values)\n",
        "test['store_type'] = test.store_type.map(storetype_values)\n",
        "\n",
        "#Encoding holiday type column to an ordinal feature based on sales\n",
        "holidaytype_values = {'Additional':6, 'Transfer':5, 'Bridge':4, 'Event':3, 'Holiday':2, 'Work Day':1}\n",
        "train['holiday_type'] = train.holiday_type.map(holidaytype_values)\n",
        "test['holiday_type'] = test.holiday_type.map(holidaytype_values)\n",
        "\n",
        "#Encoding locale column to an ordinal feature based on sales\n",
        "locale_values = {'National':4, 'Regional':3, 'Local':2, '':1}\n",
        "train['locale'] = train.locale.map(locale_values)\n",
        "test['locale'] = test.locale.map(locale_values)"
      ]
    },
    {
      "cell_type": "code",
      "execution_count": null,
      "id": "-gyoocJNcsqg",
      "metadata": {
        "id": "-gyoocJNcsqg"
      },
      "outputs": [],
      "source": [
        "#Label encoding on categorical data\n",
        "from sklearn import preprocessing\n",
        "le = preprocessing.LabelEncoder()\n",
        "feature = ['family','city','state','locale_name','transferred']\n",
        "train[feature] = train[feature].apply(le.fit_transform)\n",
        "test[feature] = test[feature].apply(le.fit_transform)"
      ]
    },
    {
      "cell_type": "code",
      "execution_count": null,
      "id": "dHtMxsLr9FZ_",
      "metadata": {
        "id": "dHtMxsLr9FZ_",
        "colab": {
          "base_uri": "https://localhost:8080/"
        },
        "outputId": "f37abffd-db53-4572-af2b-f58e32f63929"
      },
      "outputs": [
        {
          "output_type": "execute_result",
          "data": {
            "text/plain": [
              "Index(['id', 'date', 'store_nbr', 'family', 'sales', 'onpromotion', 'city',\n",
              "       'state', 'store_type', 'cluster', 'dcoilwtico', 'transactions',\n",
              "       'holiday_type', 'locale', 'locale_name', 'description', 'transferred',\n",
              "       'Quarter', 'Week', 'DayofWeek', 'isWeekend', 'Month', 'Year', 'season',\n",
              "       'Days_to_Thansksgiving', 'Days_to_Christmas'],\n",
              "      dtype='object')"
            ]
          },
          "metadata": {},
          "execution_count": 28
        }
      ],
      "source": [
        "train.columns"
      ]
    },
    {
      "cell_type": "markdown",
      "id": "qmrOq16QFFfY",
      "metadata": {
        "id": "qmrOq16QFFfY"
      },
      "source": [
        "## Modelling (Regression)"
      ]
    },
    {
      "cell_type": "code",
      "source": [
        "#To build ML models\n",
        "from xgboost import plot_importance, plot_tree\n",
        "from sklearn.preprocessing import LabelEncoder\n",
        "from matplotlib import pyplot as plt\n",
        "from xgboost import XGBRegressor\n",
        "from sklearn.model_selection import cross_val_score, train_test_split, ShuffleSplit\n",
        "\n",
        "%matplotlib inline\n",
        "import matplotlib.pyplot as plt\n",
        "import seaborn as sns\n",
        "import pandas as pd\n",
        "import numpy as np\n",
        "import time\n",
        "sns.set_style('whitegrid')\n",
        "plt.rcParams['figure.figsize']=(20,10) # for graphs styling\n",
        "plt.style.use('tableau-colorblind10') # for graph stying"
      ],
      "metadata": {
        "id": "Oo4yzdMVoa25"
      },
      "id": "Oo4yzdMVoa25",
      "execution_count": null,
      "outputs": []
    },
    {
      "cell_type": "code",
      "execution_count": null,
      "id": "PFigXOhxJQID",
      "metadata": {
        "id": "PFigXOhxJQID"
      },
      "outputs": [],
      "source": [
        "#Selected features for modelling\n",
        "model_features = ['store_nbr', 'family', 'onpromotion', 'city',\n",
        "       'state', 'store_type', 'cluster', 'dcoilwtico',\n",
        "       'holiday_type', 'locale', 'locale_name', 'transferred',\n",
        "       'isWeekend', 'Year', 'season',\n",
        "       'Days_to_Thansksgiving', 'Days_to_Christmas', 'Month', 'Quarter',\n",
        "       'Week', 'DayofWeek','Day']"
      ]
    },
    {
      "cell_type": "code",
      "source": [
        "train.head()"
      ],
      "metadata": {
        "id": "g2ObCNBUw63x",
        "colab": {
          "base_uri": "https://localhost:8080/",
          "height": 235
        },
        "outputId": "24d86d47-715a-421e-94e2-5b3ecb31f797"
      },
      "id": "g2ObCNBUw63x",
      "execution_count": null,
      "outputs": [
        {
          "output_type": "execute_result",
          "data": {
            "text/plain": [
              "   id       date  store_nbr  family  sales  onpromotion  city  state  \\\n",
              "0   0 2013-01-01          1       0    0.0            0    18     12   \n",
              "1   1 2013-01-01          1       1    0.0            0    18     12   \n",
              "2   2 2013-01-01          1       2    0.0            0    18     12   \n",
              "3   3 2013-01-01          1       3    0.0            0    18     12   \n",
              "4   4 2013-01-01          1       4    0.0            0    18     12   \n",
              "\n",
              "   store_type  cluster  ...  Quarter  Week  DayofWeek  isWeekend  Month  Year  \\\n",
              "0           4       13  ...        1     1          1          0      1  2013   \n",
              "1           4       13  ...        1     1          1          0      1  2013   \n",
              "2           4       13  ...        1     1          1          0      1  2013   \n",
              "3           4       13  ...        1     1          1          0      1  2013   \n",
              "4           4       13  ...        1     1          1          0      1  2013   \n",
              "\n",
              "   Day  season  Days_to_Thansksgiving  Days_to_Christmas  \n",
              "0    1       4                    327                357  \n",
              "1    1       4                    327                357  \n",
              "2    1       4                    327                357  \n",
              "3    1       4                    327                357  \n",
              "4    1       4                    327                357  \n",
              "\n",
              "[5 rows x 27 columns]"
            ],
            "text/html": [
              "\n",
              "  <div id=\"df-0924d8a4-4a45-43ed-8c4b-326ba3a81f30\">\n",
              "    <div class=\"colab-df-container\">\n",
              "      <div>\n",
              "<style scoped>\n",
              "    .dataframe tbody tr th:only-of-type {\n",
              "        vertical-align: middle;\n",
              "    }\n",
              "\n",
              "    .dataframe tbody tr th {\n",
              "        vertical-align: top;\n",
              "    }\n",
              "\n",
              "    .dataframe thead th {\n",
              "        text-align: right;\n",
              "    }\n",
              "</style>\n",
              "<table border=\"1\" class=\"dataframe\">\n",
              "  <thead>\n",
              "    <tr style=\"text-align: right;\">\n",
              "      <th></th>\n",
              "      <th>id</th>\n",
              "      <th>date</th>\n",
              "      <th>store_nbr</th>\n",
              "      <th>family</th>\n",
              "      <th>sales</th>\n",
              "      <th>onpromotion</th>\n",
              "      <th>city</th>\n",
              "      <th>state</th>\n",
              "      <th>store_type</th>\n",
              "      <th>cluster</th>\n",
              "      <th>...</th>\n",
              "      <th>Quarter</th>\n",
              "      <th>Week</th>\n",
              "      <th>DayofWeek</th>\n",
              "      <th>isWeekend</th>\n",
              "      <th>Month</th>\n",
              "      <th>Year</th>\n",
              "      <th>Day</th>\n",
              "      <th>season</th>\n",
              "      <th>Days_to_Thansksgiving</th>\n",
              "      <th>Days_to_Christmas</th>\n",
              "    </tr>\n",
              "  </thead>\n",
              "  <tbody>\n",
              "    <tr>\n",
              "      <th>0</th>\n",
              "      <td>0</td>\n",
              "      <td>2013-01-01</td>\n",
              "      <td>1</td>\n",
              "      <td>0</td>\n",
              "      <td>0.0</td>\n",
              "      <td>0</td>\n",
              "      <td>18</td>\n",
              "      <td>12</td>\n",
              "      <td>4</td>\n",
              "      <td>13</td>\n",
              "      <td>...</td>\n",
              "      <td>1</td>\n",
              "      <td>1</td>\n",
              "      <td>1</td>\n",
              "      <td>0</td>\n",
              "      <td>1</td>\n",
              "      <td>2013</td>\n",
              "      <td>1</td>\n",
              "      <td>4</td>\n",
              "      <td>327</td>\n",
              "      <td>357</td>\n",
              "    </tr>\n",
              "    <tr>\n",
              "      <th>1</th>\n",
              "      <td>1</td>\n",
              "      <td>2013-01-01</td>\n",
              "      <td>1</td>\n",
              "      <td>1</td>\n",
              "      <td>0.0</td>\n",
              "      <td>0</td>\n",
              "      <td>18</td>\n",
              "      <td>12</td>\n",
              "      <td>4</td>\n",
              "      <td>13</td>\n",
              "      <td>...</td>\n",
              "      <td>1</td>\n",
              "      <td>1</td>\n",
              "      <td>1</td>\n",
              "      <td>0</td>\n",
              "      <td>1</td>\n",
              "      <td>2013</td>\n",
              "      <td>1</td>\n",
              "      <td>4</td>\n",
              "      <td>327</td>\n",
              "      <td>357</td>\n",
              "    </tr>\n",
              "    <tr>\n",
              "      <th>2</th>\n",
              "      <td>2</td>\n",
              "      <td>2013-01-01</td>\n",
              "      <td>1</td>\n",
              "      <td>2</td>\n",
              "      <td>0.0</td>\n",
              "      <td>0</td>\n",
              "      <td>18</td>\n",
              "      <td>12</td>\n",
              "      <td>4</td>\n",
              "      <td>13</td>\n",
              "      <td>...</td>\n",
              "      <td>1</td>\n",
              "      <td>1</td>\n",
              "      <td>1</td>\n",
              "      <td>0</td>\n",
              "      <td>1</td>\n",
              "      <td>2013</td>\n",
              "      <td>1</td>\n",
              "      <td>4</td>\n",
              "      <td>327</td>\n",
              "      <td>357</td>\n",
              "    </tr>\n",
              "    <tr>\n",
              "      <th>3</th>\n",
              "      <td>3</td>\n",
              "      <td>2013-01-01</td>\n",
              "      <td>1</td>\n",
              "      <td>3</td>\n",
              "      <td>0.0</td>\n",
              "      <td>0</td>\n",
              "      <td>18</td>\n",
              "      <td>12</td>\n",
              "      <td>4</td>\n",
              "      <td>13</td>\n",
              "      <td>...</td>\n",
              "      <td>1</td>\n",
              "      <td>1</td>\n",
              "      <td>1</td>\n",
              "      <td>0</td>\n",
              "      <td>1</td>\n",
              "      <td>2013</td>\n",
              "      <td>1</td>\n",
              "      <td>4</td>\n",
              "      <td>327</td>\n",
              "      <td>357</td>\n",
              "    </tr>\n",
              "    <tr>\n",
              "      <th>4</th>\n",
              "      <td>4</td>\n",
              "      <td>2013-01-01</td>\n",
              "      <td>1</td>\n",
              "      <td>4</td>\n",
              "      <td>0.0</td>\n",
              "      <td>0</td>\n",
              "      <td>18</td>\n",
              "      <td>12</td>\n",
              "      <td>4</td>\n",
              "      <td>13</td>\n",
              "      <td>...</td>\n",
              "      <td>1</td>\n",
              "      <td>1</td>\n",
              "      <td>1</td>\n",
              "      <td>0</td>\n",
              "      <td>1</td>\n",
              "      <td>2013</td>\n",
              "      <td>1</td>\n",
              "      <td>4</td>\n",
              "      <td>327</td>\n",
              "      <td>357</td>\n",
              "    </tr>\n",
              "  </tbody>\n",
              "</table>\n",
              "<p>5 rows × 27 columns</p>\n",
              "</div>\n",
              "      <button class=\"colab-df-convert\" onclick=\"convertToInteractive('df-0924d8a4-4a45-43ed-8c4b-326ba3a81f30')\"\n",
              "              title=\"Convert this dataframe to an interactive table.\"\n",
              "              style=\"display:none;\">\n",
              "        \n",
              "  <svg xmlns=\"http://www.w3.org/2000/svg\" height=\"24px\"viewBox=\"0 0 24 24\"\n",
              "       width=\"24px\">\n",
              "    <path d=\"M0 0h24v24H0V0z\" fill=\"none\"/>\n",
              "    <path d=\"M18.56 5.44l.94 2.06.94-2.06 2.06-.94-2.06-.94-.94-2.06-.94 2.06-2.06.94zm-11 1L8.5 8.5l.94-2.06 2.06-.94-2.06-.94L8.5 2.5l-.94 2.06-2.06.94zm10 10l.94 2.06.94-2.06 2.06-.94-2.06-.94-.94-2.06-.94 2.06-2.06.94z\"/><path d=\"M17.41 7.96l-1.37-1.37c-.4-.4-.92-.59-1.43-.59-.52 0-1.04.2-1.43.59L10.3 9.45l-7.72 7.72c-.78.78-.78 2.05 0 2.83L4 21.41c.39.39.9.59 1.41.59.51 0 1.02-.2 1.41-.59l7.78-7.78 2.81-2.81c.8-.78.8-2.07 0-2.86zM5.41 20L4 18.59l7.72-7.72 1.47 1.35L5.41 20z\"/>\n",
              "  </svg>\n",
              "      </button>\n",
              "      \n",
              "  <style>\n",
              "    .colab-df-container {\n",
              "      display:flex;\n",
              "      flex-wrap:wrap;\n",
              "      gap: 12px;\n",
              "    }\n",
              "\n",
              "    .colab-df-convert {\n",
              "      background-color: #E8F0FE;\n",
              "      border: none;\n",
              "      border-radius: 50%;\n",
              "      cursor: pointer;\n",
              "      display: none;\n",
              "      fill: #1967D2;\n",
              "      height: 32px;\n",
              "      padding: 0 0 0 0;\n",
              "      width: 32px;\n",
              "    }\n",
              "\n",
              "    .colab-df-convert:hover {\n",
              "      background-color: #E2EBFA;\n",
              "      box-shadow: 0px 1px 2px rgba(60, 64, 67, 0.3), 0px 1px 3px 1px rgba(60, 64, 67, 0.15);\n",
              "      fill: #174EA6;\n",
              "    }\n",
              "\n",
              "    [theme=dark] .colab-df-convert {\n",
              "      background-color: #3B4455;\n",
              "      fill: #D2E3FC;\n",
              "    }\n",
              "\n",
              "    [theme=dark] .colab-df-convert:hover {\n",
              "      background-color: #434B5C;\n",
              "      box-shadow: 0px 1px 3px 1px rgba(0, 0, 0, 0.15);\n",
              "      filter: drop-shadow(0px 1px 2px rgba(0, 0, 0, 0.3));\n",
              "      fill: #FFFFFF;\n",
              "    }\n",
              "  </style>\n",
              "\n",
              "      <script>\n",
              "        const buttonEl =\n",
              "          document.querySelector('#df-0924d8a4-4a45-43ed-8c4b-326ba3a81f30 button.colab-df-convert');\n",
              "        buttonEl.style.display =\n",
              "          google.colab.kernel.accessAllowed ? 'block' : 'none';\n",
              "\n",
              "        async function convertToInteractive(key) {\n",
              "          const element = document.querySelector('#df-0924d8a4-4a45-43ed-8c4b-326ba3a81f30');\n",
              "          const dataTable =\n",
              "            await google.colab.kernel.invokeFunction('convertToInteractive',\n",
              "                                                     [key], {});\n",
              "          if (!dataTable) return;\n",
              "\n",
              "          const docLinkHtml = 'Like what you see? Visit the ' +\n",
              "            '<a target=\"_blank\" href=https://colab.research.google.com/notebooks/data_table.ipynb>data table notebook</a>'\n",
              "            + ' to learn more about interactive tables.';\n",
              "          element.innerHTML = '';\n",
              "          dataTable['output_type'] = 'display_data';\n",
              "          await google.colab.output.renderOutput(dataTable, element);\n",
              "          const docLink = document.createElement('div');\n",
              "          docLink.innerHTML = docLinkHtml;\n",
              "          element.appendChild(docLink);\n",
              "        }\n",
              "      </script>\n",
              "    </div>\n",
              "  </div>\n",
              "  "
            ]
          },
          "metadata": {},
          "execution_count": 27
        }
      ]
    },
    {
      "cell_type": "code",
      "source": [],
      "metadata": {
        "id": "OTH-JWqnPd3p"
      },
      "id": "OTH-JWqnPd3p",
      "execution_count": null,
      "outputs": []
    },
    {
      "cell_type": "code",
      "source": [
        "train.date = pd.to_datetime(train.date)\n",
        "\n",
        "#Create train and test data from a train data frame for modeling and model evaluation\n",
        "split_date = \"2017.07.15\"\n",
        "df_train_model = train.loc[train.date <= split_date].copy()\n",
        "df_test_model = train.loc[train.date > split_date].copy()\n",
        "\n",
        "df_test_model.set_index('date', inplace=True)\n",
        "df_train_model.set_index('date', inplace=True)"
      ],
      "metadata": {
        "id": "sGACtmhJruj4"
      },
      "id": "sGACtmhJruj4",
      "execution_count": null,
      "outputs": []
    },
    {
      "cell_type": "code",
      "source": [
        "#Splitting the data for modelling\n",
        "from sklearn.model_selection import cross_val_score, train_test_split,ShuffleSplit\n",
        "\n",
        "Y = df_train_model['log_sales']\n",
        "X = df_train_model[model_features]\n",
        "test_size = .3\n",
        "X_train, X_test, y_train, y_test = train_test_split(X, Y, test_size=test_size, random_state = 3)"
      ],
      "metadata": {
        "id": "pC9w33OqnvQ3"
      },
      "id": "pC9w33OqnvQ3",
      "execution_count": null,
      "outputs": []
    },
    {
      "cell_type": "code",
      "source": [
        "#RMSLE value function\n",
        "import numpy as np\n",
        "\n",
        "def rmsle(h, y): \n",
        "    return np.sqrt(np.square(np.log(h + 1) - np.log(y + 1)).mean())\n"
      ],
      "metadata": {
        "id": "yrw71Prt531e"
      },
      "id": "yrw71Prt531e",
      "execution_count": null,
      "outputs": []
    },
    {
      "cell_type": "code",
      "source": [
        "#XGB Model\n",
        "xgb_reg = XGBRegressor(random_state=123, n_estimators=100, gamma=24.47, subsample=0.75, learning_rate=0.1235,\n",
        "                           colsample_bytree=1, max_depth=10, min_child_weight=0.2150999, sub_sample=0.74, reg_lambda=0.8)\n",
        "xgb_reg.fit(X_train, y_train)\n",
        "prediction = xgb_reg.predict(X_test)\n",
        "#cv = ShuffleSplit(n_splits=4, test_size=0.3, random_state=0)\n",
        "# print('cv model score = ',cross_val_score(xgb_reg, X, Y, cv=cv))\n",
        "# Model score\n",
        "print('RMSLE = ', rmsle(prediction,y_test))\n",
        "print('Model score = ', xgb_reg.score(X_test,y_test))"
      ],
      "metadata": {
        "colab": {
          "base_uri": "https://localhost:8080/"
        },
        "id": "uip7xXjs6g84",
        "outputId": "13c76007-d530-4610-a95e-d463768b4d47"
      },
      "id": "uip7xXjs6g84",
      "execution_count": null,
      "outputs": [
        {
          "output_type": "stream",
          "name": "stdout",
          "text": [
            "[12:55:34] WARNING: /workspace/src/objective/regression_obj.cu:152: reg:linear is now deprecated in favor of reg:squarederror.\n",
            "RMSLE =  0.39431000889092543\n",
            "Model score =  0.9162358299268955\n"
          ]
        }
      ]
    },
    {
      "cell_type": "code",
      "source": [
        "_ = plot_importance(xgb_reg, height=1.5)"
      ],
      "metadata": {
        "colab": {
          "base_uri": "https://localhost:8080/",
          "height": 621
        },
        "id": "z51fwyW_8MvM",
        "outputId": "dc9790e8-d2fd-462a-9ac4-c07ab91fbd52"
      },
      "id": "z51fwyW_8MvM",
      "execution_count": null,
      "outputs": [
        {
          "output_type": "display_data",
          "data": {
            "text/plain": [
              "<Figure size 1440x720 with 1 Axes>"
            ],
            "image/png": "[encoded data removed]"
          },
          "metadata": {}
        }
      ]
    },
    {
      "cell_type": "code",
      "source": [
        "df_test_model.head()"
      ],
      "metadata": {
        "colab": {
          "base_uri": "https://localhost:8080/",
          "height": 418
        },
        "id": "zljzmWvELwVs",
        "outputId": "b5411631-ea61-4fa4-8636-f99a4875f665"
      },
      "id": "zljzmWvELwVs",
      "execution_count": null,
      "outputs": [
        {
          "output_type": "execute_result",
          "data": {
            "text/plain": [
              "                 id  store_nbr  family   sales  onpromotion  city  state  \\\n",
              "date                                                                       \n",
              "2017-07-16  2945646          1       0     2.0            0    18     12   \n",
              "2017-07-16  2945647          1       1     0.0            0    18     12   \n",
              "2017-07-16  2945648          1       2     2.0            0    18     12   \n",
              "2017-07-16  2945649          1       3  1079.0           34    18     12   \n",
              "2017-07-16  2945650          1       4     0.0            0    18     12   \n",
              "\n",
              "            store_type  cluster  dcoilwtico  ...  Week  DayofWeek  isWeekend  \\\n",
              "date                                         ...                               \n",
              "2017-07-16           4       13       46.02  ...    28          6          1   \n",
              "2017-07-16           4       13       46.02  ...    28          6          1   \n",
              "2017-07-16           4       13       46.02  ...    28          6          1   \n",
              "2017-07-16           4       13       46.02  ...    28          6          1   \n",
              "2017-07-16           4       13       46.02  ...    28          6          1   \n",
              "\n",
              "            Month  Year  Day  season  Days_to_Thansksgiving  \\\n",
              "date                                                          \n",
              "2017-07-16      7  2017   16       2                    131   \n",
              "2017-07-16      7  2017   16       2                    131   \n",
              "2017-07-16      7  2017   16       2                    131   \n",
              "2017-07-16      7  2017   16       2                    131   \n",
              "2017-07-16      7  2017   16       2                    131   \n",
              "\n",
              "            Days_to_Christmas  log_sales  \n",
              "date                                      \n",
              "2017-07-16                161   0.693647  \n",
              "2017-07-16                161  -6.907755  \n",
              "2017-07-16                161   0.693647  \n",
              "2017-07-16                161   6.983791  \n",
              "2017-07-16                161  -6.907755  \n",
              "\n",
              "[5 rows x 27 columns]"
            ],
            "text/html": [
              "\n",
              "  <div id=\"df-f14bffe8-502d-445a-aa75-61ae88eac9ca\">\n",
              "    <div class=\"colab-df-container\">\n",
              "      <div>\n",
              "<style scoped>\n",
              "    .dataframe tbody tr th:only-of-type {\n",
              "        vertical-align: middle;\n",
              "    }\n",
              "\n",
              "    .dataframe tbody tr th {\n",
              "        vertical-align: top;\n",
              "    }\n",
              "\n",
              "    .dataframe thead th {\n",
              "        text-align: right;\n",
              "    }\n",
              "</style>\n",
              "<table border=\"1\" class=\"dataframe\">\n",
              "  <thead>\n",
              "    <tr style=\"text-align: right;\">\n",
              "      <th></th>\n",
              "      <th>id</th>\n",
              "      <th>store_nbr</th>\n",
              "      <th>family</th>\n",
              "      <th>sales</th>\n",
              "      <th>onpromotion</th>\n",
              "      <th>city</th>\n",
              "      <th>state</th>\n",
              "      <th>store_type</th>\n",
              "      <th>cluster</th>\n",
              "      <th>dcoilwtico</th>\n",
              "      <th>...</th>\n",
              "      <th>Week</th>\n",
              "      <th>DayofWeek</th>\n",
              "      <th>isWeekend</th>\n",
              "      <th>Month</th>\n",
              "      <th>Year</th>\n",
              "      <th>Day</th>\n",
              "      <th>season</th>\n",
              "      <th>Days_to_Thansksgiving</th>\n",
              "      <th>Days_to_Christmas</th>\n",
              "      <th>log_sales</th>\n",
              "    </tr>\n",
              "    <tr>\n",
              "      <th>date</th>\n",
              "      <th></th>\n",
              "      <th></th>\n",
              "      <th></th>\n",
              "      <th></th>\n",
              "      <th></th>\n",
              "      <th></th>\n",
              "      <th></th>\n",
              "      <th></th>\n",
              "      <th></th>\n",
              "      <th></th>\n",
              "      <th></th>\n",
              "      <th></th>\n",
              "      <th></th>\n",
              "      <th></th>\n",
              "      <th></th>\n",
              "      <th></th>\n",
              "      <th></th>\n",
              "      <th></th>\n",
              "      <th></th>\n",
              "      <th></th>\n",
              "      <th></th>\n",
              "    </tr>\n",
              "  </thead>\n",
              "  <tbody>\n",
              "    <tr>\n",
              "      <th>2017-07-16</th>\n",
              "      <td>2945646</td>\n",
              "      <td>1</td>\n",
              "      <td>0</td>\n",
              "      <td>2.0</td>\n",
              "      <td>0</td>\n",
              "      <td>18</td>\n",
              "      <td>12</td>\n",
              "      <td>4</td>\n",
              "      <td>13</td>\n",
              "      <td>46.02</td>\n",
              "      <td>...</td>\n",
              "      <td>28</td>\n",
              "      <td>6</td>\n",
              "      <td>1</td>\n",
              "      <td>7</td>\n",
              "      <td>2017</td>\n",
              "      <td>16</td>\n",
              "      <td>2</td>\n",
              "      <td>131</td>\n",
              "      <td>161</td>\n",
              "      <td>0.693647</td>\n",
              "    </tr>\n",
              "    <tr>\n",
              "      <th>2017-07-16</th>\n",
              "      <td>2945647</td>\n",
              "      <td>1</td>\n",
              "      <td>1</td>\n",
              "      <td>0.0</td>\n",
              "      <td>0</td>\n",
              "      <td>18</td>\n",
              "      <td>12</td>\n",
              "      <td>4</td>\n",
              "      <td>13</td>\n",
              "      <td>46.02</td>\n",
              "      <td>...</td>\n",
              "      <td>28</td>\n",
              "      <td>6</td>\n",
              "      <td>1</td>\n",
              "      <td>7</td>\n",
              "      <td>2017</td>\n",
              "      <td>16</td>\n",
              "      <td>2</td>\n",
              "      <td>131</td>\n",
              "      <td>161</td>\n",
              "      <td>-6.907755</td>\n",
              "    </tr>\n",
              "    <tr>\n",
              "      <th>2017-07-16</th>\n",
              "      <td>2945648</td>\n",
              "      <td>1</td>\n",
              "      <td>2</td>\n",
              "      <td>2.0</td>\n",
              "      <td>0</td>\n",
              "      <td>18</td>\n",
              "      <td>12</td>\n",
              "      <td>4</td>\n",
              "      <td>13</td>\n",
              "      <td>46.02</td>\n",
              "      <td>...</td>\n",
              "      <td>28</td>\n",
              "      <td>6</td>\n",
              "      <td>1</td>\n",
              "      <td>7</td>\n",
              "      <td>2017</td>\n",
              "      <td>16</td>\n",
              "      <td>2</td>\n",
              "      <td>131</td>\n",
              "      <td>161</td>\n",
              "      <td>0.693647</td>\n",
              "    </tr>\n",
              "    <tr>\n",
              "      <th>2017-07-16</th>\n",
              "      <td>2945649</td>\n",
              "      <td>1</td>\n",
              "      <td>3</td>\n",
              "      <td>1079.0</td>\n",
              "      <td>34</td>\n",
              "      <td>18</td>\n",
              "      <td>12</td>\n",
              "      <td>4</td>\n",
              "      <td>13</td>\n",
              "      <td>46.02</td>\n",
              "      <td>...</td>\n",
              "      <td>28</td>\n",
              "      <td>6</td>\n",
              "      <td>1</td>\n",
              "      <td>7</td>\n",
              "      <td>2017</td>\n",
              "      <td>16</td>\n",
              "      <td>2</td>\n",
              "      <td>131</td>\n",
              "      <td>161</td>\n",
              "      <td>6.983791</td>\n",
              "    </tr>\n",
              "    <tr>\n",
              "      <th>2017-07-16</th>\n",
              "      <td>2945650</td>\n",
              "      <td>1</td>\n",
              "      <td>4</td>\n",
              "      <td>0.0</td>\n",
              "      <td>0</td>\n",
              "      <td>18</td>\n",
              "      <td>12</td>\n",
              "      <td>4</td>\n",
              "      <td>13</td>\n",
              "      <td>46.02</td>\n",
              "      <td>...</td>\n",
              "      <td>28</td>\n",
              "      <td>6</td>\n",
              "      <td>1</td>\n",
              "      <td>7</td>\n",
              "      <td>2017</td>\n",
              "      <td>16</td>\n",
              "      <td>2</td>\n",
              "      <td>131</td>\n",
              "      <td>161</td>\n",
              "      <td>-6.907755</td>\n",
              "    </tr>\n",
              "  </tbody>\n",
              "</table>\n",
              "<p>5 rows × 27 columns</p>\n",
              "</div>\n",
              "      <button class=\"colab-df-convert\" onclick=\"convertToInteractive('df-f14bffe8-502d-445a-aa75-61ae88eac9ca')\"\n",
              "              title=\"Convert this dataframe to an interactive table.\"\n",
              "              style=\"display:none;\">\n",
              "        \n",
              "  <svg xmlns=\"http://www.w3.org/2000/svg\" height=\"24px\"viewBox=\"0 0 24 24\"\n",
              "       width=\"24px\">\n",
              "    <path d=\"M0 0h24v24H0V0z\" fill=\"none\"/>\n",
              "    <path d=\"M18.56 5.44l.94 2.06.94-2.06 2.06-.94-2.06-.94-.94-2.06-.94 2.06-2.06.94zm-11 1L8.5 8.5l.94-2.06 2.06-.94-2.06-.94L8.5 2.5l-.94 2.06-2.06.94zm10 10l.94 2.06.94-2.06 2.06-.94-2.06-.94-.94-2.06-.94 2.06-2.06.94z\"/><path d=\"M17.41 7.96l-1.37-1.37c-.4-.4-.92-.59-1.43-.59-.52 0-1.04.2-1.43.59L10.3 9.45l-7.72 7.72c-.78.78-.78 2.05 0 2.83L4 21.41c.39.39.9.59 1.41.59.51 0 1.02-.2 1.41-.59l7.78-7.78 2.81-2.81c.8-.78.8-2.07 0-2.86zM5.41 20L4 18.59l7.72-7.72 1.47 1.35L5.41 20z\"/>\n",
              "  </svg>\n",
              "      </button>\n",
              "      \n",
              "  <style>\n",
              "    .colab-df-container {\n",
              "      display:flex;\n",
              "      flex-wrap:wrap;\n",
              "      gap: 12px;\n",
              "    }\n",
              "\n",
              "    .colab-df-convert {\n",
              "      background-color: #E8F0FE;\n",
              "      border: none;\n",
              "      border-radius: 50%;\n",
              "      cursor: pointer;\n",
              "      display: none;\n",
              "      fill: #1967D2;\n",
              "      height: 32px;\n",
              "      padding: 0 0 0 0;\n",
              "      width: 32px;\n",
              "    }\n",
              "\n",
              "    .colab-df-convert:hover {\n",
              "      background-color: #E2EBFA;\n",
              "      box-shadow: 0px 1px 2px rgba(60, 64, 67, 0.3), 0px 1px 3px 1px rgba(60, 64, 67, 0.15);\n",
              "      fill: #174EA6;\n",
              "    }\n",
              "\n",
              "    [theme=dark] .colab-df-convert {\n",
              "      background-color: #3B4455;\n",
              "      fill: #D2E3FC;\n",
              "    }\n",
              "\n",
              "    [theme=dark] .colab-df-convert:hover {\n",
              "      background-color: #434B5C;\n",
              "      box-shadow: 0px 1px 3px 1px rgba(0, 0, 0, 0.15);\n",
              "      filter: drop-shadow(0px 1px 2px rgba(0, 0, 0, 0.3));\n",
              "      fill: #FFFFFF;\n",
              "    }\n",
              "  </style>\n",
              "\n",
              "      <script>\n",
              "        const buttonEl =\n",
              "          document.querySelector('#df-f14bffe8-502d-445a-aa75-61ae88eac9ca button.colab-df-convert');\n",
              "        buttonEl.style.display =\n",
              "          google.colab.kernel.accessAllowed ? 'block' : 'none';\n",
              "\n",
              "        async function convertToInteractive(key) {\n",
              "          const element = document.querySelector('#df-f14bffe8-502d-445a-aa75-61ae88eac9ca');\n",
              "          const dataTable =\n",
              "            await google.colab.kernel.invokeFunction('convertToInteractive',\n",
              "                                                     [key], {});\n",
              "          if (!dataTable) return;\n",
              "\n",
              "          const docLinkHtml = 'Like what you see? Visit the ' +\n",
              "            '<a target=\"_blank\" href=https://colab.research.google.com/notebooks/data_table.ipynb>data table notebook</a>'\n",
              "            + ' to learn more about interactive tables.';\n",
              "          element.innerHTML = '';\n",
              "          dataTable['output_type'] = 'display_data';\n",
              "          await google.colab.output.renderOutput(dataTable, element);\n",
              "          const docLink = document.createElement('div');\n",
              "          docLink.innerHTML = docLinkHtml;\n",
              "          element.appendChild(docLink);\n",
              "        }\n",
              "      </script>\n",
              "    </div>\n",
              "  </div>\n",
              "  "
            ]
          },
          "metadata": {},
          "execution_count": 35
        }
      ]
    },
    {
      "cell_type": "code",
      "source": [
        "#Real and prediction value trend\n",
        "df_test_model['prediction'] = ((np.exp(xgb_reg.predict(df_test_model[model_features])))-0.001) \n",
        "df_all = pd.concat([df_test_model, df_train_model], sort=False)\n",
        "_ = df_all[['sales','prediction']].plot(figsize=(15, 5))"
      ],
      "metadata": {
        "colab": {
          "base_uri": "https://localhost:8080/",
          "height": 318
        },
        "id": "m7t9gXlRXbf7",
        "outputId": "49bfbd4f-7353-4332-b563-19e9beaf63c1"
      },
      "id": "m7t9gXlRXbf7",
      "execution_count": null,
      "outputs": [
        {
          "output_type": "display_data",
          "data": {
            "text/plain": [
              "<Figure size 1080x360 with 1 Axes>"
            ],
            "image/png": "[encoded data removed]"
          },
          "metadata": {}
        }
      ]
    },
    {
      "cell_type": "code",
      "source": [
        "#Evaluate real dan prediction data\n",
        "sales = df_all.sales.resample(\"D\").mean()\n",
        "prediction = df_all.prediction.resample(\"D\").mean()\n",
        "\n",
        "f, ax = plt.subplots(1)\n",
        "f.set_figheight(10)\n",
        "f.set_figwidth(22)\n",
        "\n",
        "sales.plot(ax=ax)\n",
        "prediction.plot(ax=ax)\n",
        "\n",
        "#ax.set_title(f'Prediction \\n MAE: {score_mae:.2f}, RMSE: {score_rmse:.2f}', fontsize=14)\n",
        "ax.set_xlabel(xlabel='Date', fontsize=14)\n",
        "ax.set_ylabel(ylabel='Sales', fontsize=14)\n",
        "ax.set_title('Average Sales per Day')\n",
        "ax.set_xbound(lower='2017.07.01', upper='2017.08.01')\n",
        "\n",
        "plt.show()"
      ],
      "metadata": {
        "colab": {
          "base_uri": "https://localhost:8080/",
          "height": 660
        },
        "id": "DUI9TsAMaK2f",
        "outputId": "b448663d-95b9-464c-ed23-8c1ce67c8ffe"
      },
      "id": "DUI9TsAMaK2f",
      "execution_count": null,
      "outputs": [
        {
          "output_type": "display_data",
          "data": {
            "text/plain": [
              "<Figure size 1584x720 with 1 Axes>"
            ],
            "image/png": "[encoded data removed]"
          },
          "metadata": {}
        }
      ]
    },
    {
      "cell_type": "code",
      "source": [
        "df_test_model[['sales','prediction']].head(10)"
      ],
      "metadata": {
        "colab": {
          "base_uri": "https://localhost:8080/",
          "height": 394
        },
        "id": "yXBrzVN6Bui6",
        "outputId": "c6ecf5ff-298c-4968-a248-ddf67b07aa4d"
      },
      "id": "yXBrzVN6Bui6",
      "execution_count": null,
      "outputs": [
        {
          "output_type": "execute_result",
          "data": {
            "text/plain": [
              "               sales   prediction\n",
              "date                             \n",
              "2017-07-16     2.000     0.225777\n",
              "2017-07-16     0.000     0.000908\n",
              "2017-07-16     2.000     0.310022\n",
              "2017-07-16  1079.000  1294.115601\n",
              "2017-07-16     0.000     0.001457\n",
              "2017-07-16   121.055   172.522446\n",
              "2017-07-16     9.000     4.007843\n",
              "2017-07-16   231.000   280.540100\n",
              "2017-07-16   325.000   331.305328\n",
              "2017-07-16    62.795   106.760468"
            ],
            "text/html": [
              "\n",
              "  <div id=\"df-8a98cdfc-656b-4003-8d0d-cbfd52f097dd\">\n",
              "    <div class=\"colab-df-container\">\n",
              "      <div>\n",
              "<style scoped>\n",
              "    .dataframe tbody tr th:only-of-type {\n",
              "        vertical-align: middle;\n",
              "    }\n",
              "\n",
              "    .dataframe tbody tr th {\n",
              "        vertical-align: top;\n",
              "    }\n",
              "\n",
              "    .dataframe thead th {\n",
              "        text-align: right;\n",
              "    }\n",
              "</style>\n",
              "<table border=\"1\" class=\"dataframe\">\n",
              "  <thead>\n",
              "    <tr style=\"text-align: right;\">\n",
              "      <th></th>\n",
              "      <th>sales</th>\n",
              "      <th>prediction</th>\n",
              "    </tr>\n",
              "    <tr>\n",
              "      <th>date</th>\n",
              "      <th></th>\n",
              "      <th></th>\n",
              "    </tr>\n",
              "  </thead>\n",
              "  <tbody>\n",
              "    <tr>\n",
              "      <th>2017-07-16</th>\n",
              "      <td>2.000</td>\n",
              "      <td>0.225777</td>\n",
              "    </tr>\n",
              "    <tr>\n",
              "      <th>2017-07-16</th>\n",
              "      <td>0.000</td>\n",
              "      <td>0.000908</td>\n",
              "    </tr>\n",
              "    <tr>\n",
              "      <th>2017-07-16</th>\n",
              "      <td>2.000</td>\n",
              "      <td>0.310022</td>\n",
              "    </tr>\n",
              "    <tr>\n",
              "      <th>2017-07-16</th>\n",
              "      <td>1079.000</td>\n",
              "      <td>1294.115601</td>\n",
              "    </tr>\n",
              "    <tr>\n",
              "      <th>2017-07-16</th>\n",
              "      <td>0.000</td>\n",
              "      <td>0.001457</td>\n",
              "    </tr>\n",
              "    <tr>\n",
              "      <th>2017-07-16</th>\n",
              "      <td>121.055</td>\n",
              "      <td>172.522446</td>\n",
              "    </tr>\n",
              "    <tr>\n",
              "      <th>2017-07-16</th>\n",
              "      <td>9.000</td>\n",
              "      <td>4.007843</td>\n",
              "    </tr>\n",
              "    <tr>\n",
              "      <th>2017-07-16</th>\n",
              "      <td>231.000</td>\n",
              "      <td>280.540100</td>\n",
              "    </tr>\n",
              "    <tr>\n",
              "      <th>2017-07-16</th>\n",
              "      <td>325.000</td>\n",
              "      <td>331.305328</td>\n",
              "    </tr>\n",
              "    <tr>\n",
              "      <th>2017-07-16</th>\n",
              "      <td>62.795</td>\n",
              "      <td>106.760468</td>\n",
              "    </tr>\n",
              "  </tbody>\n",
              "</table>\n",
              "</div>\n",
              "      <button class=\"colab-df-convert\" onclick=\"convertToInteractive('df-8a98cdfc-656b-4003-8d0d-cbfd52f097dd')\"\n",
              "              title=\"Convert this dataframe to an interactive table.\"\n",
              "              style=\"display:none;\">\n",
              "        \n",
              "  <svg xmlns=\"http://www.w3.org/2000/svg\" height=\"24px\"viewBox=\"0 0 24 24\"\n",
              "       width=\"24px\">\n",
              "    <path d=\"M0 0h24v24H0V0z\" fill=\"none\"/>\n",
              "    <path d=\"M18.56 5.44l.94 2.06.94-2.06 2.06-.94-2.06-.94-.94-2.06-.94 2.06-2.06.94zm-11 1L8.5 8.5l.94-2.06 2.06-.94-2.06-.94L8.5 2.5l-.94 2.06-2.06.94zm10 10l.94 2.06.94-2.06 2.06-.94-2.06-.94-.94-2.06-.94 2.06-2.06.94z\"/><path d=\"M17.41 7.96l-1.37-1.37c-.4-.4-.92-.59-1.43-.59-.52 0-1.04.2-1.43.59L10.3 9.45l-7.72 7.72c-.78.78-.78 2.05 0 2.83L4 21.41c.39.39.9.59 1.41.59.51 0 1.02-.2 1.41-.59l7.78-7.78 2.81-2.81c.8-.78.8-2.07 0-2.86zM5.41 20L4 18.59l7.72-7.72 1.47 1.35L5.41 20z\"/>\n",
              "  </svg>\n",
              "      </button>\n",
              "      \n",
              "  <style>\n",
              "    .colab-df-container {\n",
              "      display:flex;\n",
              "      flex-wrap:wrap;\n",
              "      gap: 12px;\n",
              "    }\n",
              "\n",
              "    .colab-df-convert {\n",
              "      background-color: #E8F0FE;\n",
              "      border: none;\n",
              "      border-radius: 50%;\n",
              "      cursor: pointer;\n",
              "      display: none;\n",
              "      fill: #1967D2;\n",
              "      height: 32px;\n",
              "      padding: 0 0 0 0;\n",
              "      width: 32px;\n",
              "    }\n",
              "\n",
              "    .colab-df-convert:hover {\n",
              "      background-color: #E2EBFA;\n",
              "      box-shadow: 0px 1px 2px rgba(60, 64, 67, 0.3), 0px 1px 3px 1px rgba(60, 64, 67, 0.15);\n",
              "      fill: #174EA6;\n",
              "    }\n",
              "\n",
              "    [theme=dark] .colab-df-convert {\n",
              "      background-color: #3B4455;\n",
              "      fill: #D2E3FC;\n",
              "    }\n",
              "\n",
              "    [theme=dark] .colab-df-convert:hover {\n",
              "      background-color: #434B5C;\n",
              "      box-shadow: 0px 1px 3px 1px rgba(0, 0, 0, 0.15);\n",
              "      filter: drop-shadow(0px 1px 2px rgba(0, 0, 0, 0.3));\n",
              "      fill: #FFFFFF;\n",
              "    }\n",
              "  </style>\n",
              "\n",
              "      <script>\n",
              "        const buttonEl =\n",
              "          document.querySelector('#df-8a98cdfc-656b-4003-8d0d-cbfd52f097dd button.colab-df-convert');\n",
              "        buttonEl.style.display =\n",
              "          google.colab.kernel.accessAllowed ? 'block' : 'none';\n",
              "\n",
              "        async function convertToInteractive(key) {\n",
              "          const element = document.querySelector('#df-8a98cdfc-656b-4003-8d0d-cbfd52f097dd');\n",
              "          const dataTable =\n",
              "            await google.colab.kernel.invokeFunction('convertToInteractive',\n",
              "                                                     [key], {});\n",
              "          if (!dataTable) return;\n",
              "\n",
              "          const docLinkHtml = 'Like what you see? Visit the ' +\n",
              "            '<a target=\"_blank\" href=https://colab.research.google.com/notebooks/data_table.ipynb>data table notebook</a>'\n",
              "            + ' to learn more about interactive tables.';\n",
              "          element.innerHTML = '';\n",
              "          dataTable['output_type'] = 'display_data';\n",
              "          await google.colab.output.renderOutput(dataTable, element);\n",
              "          const docLink = document.createElement('div');\n",
              "          docLink.innerHTML = docLinkHtml;\n",
              "          element.appendChild(docLink);\n",
              "        }\n",
              "      </script>\n",
              "    </div>\n",
              "  </div>\n",
              "  "
            ]
          },
          "metadata": {},
          "execution_count": 39
        }
      ]
    },
    {
      "cell_type": "code",
      "source": [
        " "
      ],
      "metadata": {
        "id": "9YoOurg6d9O3"
      },
      "id": "9YoOurg6d9O3",
      "execution_count": null,
      "outputs": []
    },
    {
      "cell_type": "code",
      "source": [],
      "metadata": {
        "id": "YHMmYN3UtdOW"
      },
      "id": "YHMmYN3UtdOW",
      "execution_count": null,
      "outputs": []
    },
    {
      "cell_type": "markdown",
      "source": [
        "## Forecasting on test data"
      ],
      "metadata": {
        "id": "TMrHWIGjjMHf"
      },
      "id": "TMrHWIGjjMHf"
    },
    {
      "cell_type": "code",
      "source": [
        "#Making sales prediction on test data\n",
        "test['prediction'] = ((np.exp(xgb_reg.predict(test[model_features])))-0.001) \n",
        "test['prediction'] = test['prediction'].astype(int)\n",
        "test[test['prediction'] < 0] = 0"
      ],
      "metadata": {
        "id": "x-vMA_CQlW5k"
      },
      "id": "x-vMA_CQlW5k",
      "execution_count": null,
      "outputs": []
    },
    {
      "cell_type": "code",
      "source": [
        "test[['id','prediction']].head(10)"
      ],
      "metadata": {
        "colab": {
          "base_uri": "https://localhost:8080/",
          "height": 363
        },
        "id": "7GQamQpGkBa1",
        "outputId": "9a4d58ca-ca88-4287-b917-e51beec6a81d"
      },
      "id": "7GQamQpGkBa1",
      "execution_count": null,
      "outputs": [
        {
          "output_type": "execute_result",
          "data": {
            "text/plain": [
              "        id  prediction\n",
              "0  3000888           0\n",
              "1  3000889           0\n",
              "2  3000890           4\n",
              "3  3000891        2344\n",
              "4  3000892           0\n",
              "5  3000893         455\n",
              "6  3000894           0\n",
              "7  3000895         979\n",
              "8  3000896         790\n",
              "9  3000897         223"
            ],
            "text/html": [
              "\n",
              "  <div id=\"df-2bf3bb2f-637d-4742-9197-f0fae04c0775\">\n",
              "    <div class=\"colab-df-container\">\n",
              "      <div>\n",
              "<style scoped>\n",
              "    .dataframe tbody tr th:only-of-type {\n",
              "        vertical-align: middle;\n",
              "    }\n",
              "\n",
              "    .dataframe tbody tr th {\n",
              "        vertical-align: top;\n",
              "    }\n",
              "\n",
              "    .dataframe thead th {\n",
              "        text-align: right;\n",
              "    }\n",
              "</style>\n",
              "<table border=\"1\" class=\"dataframe\">\n",
              "  <thead>\n",
              "    <tr style=\"text-align: right;\">\n",
              "      <th></th>\n",
              "      <th>id</th>\n",
              "      <th>prediction</th>\n",
              "    </tr>\n",
              "  </thead>\n",
              "  <tbody>\n",
              "    <tr>\n",
              "      <th>0</th>\n",
              "      <td>3000888</td>\n",
              "      <td>0</td>\n",
              "    </tr>\n",
              "    <tr>\n",
              "      <th>1</th>\n",
              "      <td>3000889</td>\n",
              "      <td>0</td>\n",
              "    </tr>\n",
              "    <tr>\n",
              "      <th>2</th>\n",
              "      <td>3000890</td>\n",
              "      <td>4</td>\n",
              "    </tr>\n",
              "    <tr>\n",
              "      <th>3</th>\n",
              "      <td>3000891</td>\n",
              "      <td>2344</td>\n",
              "    </tr>\n",
              "    <tr>\n",
              "      <th>4</th>\n",
              "      <td>3000892</td>\n",
              "      <td>0</td>\n",
              "    </tr>\n",
              "    <tr>\n",
              "      <th>5</th>\n",
              "      <td>3000893</td>\n",
              "      <td>455</td>\n",
              "    </tr>\n",
              "    <tr>\n",
              "      <th>6</th>\n",
              "      <td>3000894</td>\n",
              "      <td>0</td>\n",
              "    </tr>\n",
              "    <tr>\n",
              "      <th>7</th>\n",
              "      <td>3000895</td>\n",
              "      <td>979</td>\n",
              "    </tr>\n",
              "    <tr>\n",
              "      <th>8</th>\n",
              "      <td>3000896</td>\n",
              "      <td>790</td>\n",
              "    </tr>\n",
              "    <tr>\n",
              "      <th>9</th>\n",
              "      <td>3000897</td>\n",
              "      <td>223</td>\n",
              "    </tr>\n",
              "  </tbody>\n",
              "</table>\n",
              "</div>\n",
              "      <button class=\"colab-df-convert\" onclick=\"convertToInteractive('df-2bf3bb2f-637d-4742-9197-f0fae04c0775')\"\n",
              "              title=\"Convert this dataframe to an interactive table.\"\n",
              "              style=\"display:none;\">\n",
              "        \n",
              "  <svg xmlns=\"http://www.w3.org/2000/svg\" height=\"24px\"viewBox=\"0 0 24 24\"\n",
              "       width=\"24px\">\n",
              "    <path d=\"M0 0h24v24H0V0z\" fill=\"none\"/>\n",
              "    <path d=\"M18.56 5.44l.94 2.06.94-2.06 2.06-.94-2.06-.94-.94-2.06-.94 2.06-2.06.94zm-11 1L8.5 8.5l.94-2.06 2.06-.94-2.06-.94L8.5 2.5l-.94 2.06-2.06.94zm10 10l.94 2.06.94-2.06 2.06-.94-2.06-.94-.94-2.06-.94 2.06-2.06.94z\"/><path d=\"M17.41 7.96l-1.37-1.37c-.4-.4-.92-.59-1.43-.59-.52 0-1.04.2-1.43.59L10.3 9.45l-7.72 7.72c-.78.78-.78 2.05 0 2.83L4 21.41c.39.39.9.59 1.41.59.51 0 1.02-.2 1.41-.59l7.78-7.78 2.81-2.81c.8-.78.8-2.07 0-2.86zM5.41 20L4 18.59l7.72-7.72 1.47 1.35L5.41 20z\"/>\n",
              "  </svg>\n",
              "      </button>\n",
              "      \n",
              "  <style>\n",
              "    .colab-df-container {\n",
              "      display:flex;\n",
              "      flex-wrap:wrap;\n",
              "      gap: 12px;\n",
              "    }\n",
              "\n",
              "    .colab-df-convert {\n",
              "      background-color: #E8F0FE;\n",
              "      border: none;\n",
              "      border-radius: 50%;\n",
              "      cursor: pointer;\n",
              "      display: none;\n",
              "      fill: #1967D2;\n",
              "      height: 32px;\n",
              "      padding: 0 0 0 0;\n",
              "      width: 32px;\n",
              "    }\n",
              "\n",
              "    .colab-df-convert:hover {\n",
              "      background-color: #E2EBFA;\n",
              "      box-shadow: 0px 1px 2px rgba(60, 64, 67, 0.3), 0px 1px 3px 1px rgba(60, 64, 67, 0.15);\n",
              "      fill: #174EA6;\n",
              "    }\n",
              "\n",
              "    [theme=dark] .colab-df-convert {\n",
              "      background-color: #3B4455;\n",
              "      fill: #D2E3FC;\n",
              "    }\n",
              "\n",
              "    [theme=dark] .colab-df-convert:hover {\n",
              "      background-color: #434B5C;\n",
              "      box-shadow: 0px 1px 3px 1px rgba(0, 0, 0, 0.15);\n",
              "      filter: drop-shadow(0px 1px 2px rgba(0, 0, 0, 0.3));\n",
              "      fill: #FFFFFF;\n",
              "    }\n",
              "  </style>\n",
              "\n",
              "      <script>\n",
              "        const buttonEl =\n",
              "          document.querySelector('#df-2bf3bb2f-637d-4742-9197-f0fae04c0775 button.colab-df-convert');\n",
              "        buttonEl.style.display =\n",
              "          google.colab.kernel.accessAllowed ? 'block' : 'none';\n",
              "\n",
              "        async function convertToInteractive(key) {\n",
              "          const element = document.querySelector('#df-2bf3bb2f-637d-4742-9197-f0fae04c0775');\n",
              "          const dataTable =\n",
              "            await google.colab.kernel.invokeFunction('convertToInteractive',\n",
              "                                                     [key], {});\n",
              "          if (!dataTable) return;\n",
              "\n",
              "          const docLinkHtml = 'Like what you see? Visit the ' +\n",
              "            '<a target=\"_blank\" href=https://colab.research.google.com/notebooks/data_table.ipynb>data table notebook</a>'\n",
              "            + ' to learn more about interactive tables.';\n",
              "          element.innerHTML = '';\n",
              "          dataTable['output_type'] = 'display_data';\n",
              "          await google.colab.output.renderOutput(dataTable, element);\n",
              "          const docLink = document.createElement('div');\n",
              "          docLink.innerHTML = docLinkHtml;\n",
              "          element.appendChild(docLink);\n",
              "        }\n",
              "      </script>\n",
              "    </div>\n",
              "  </div>\n",
              "  "
            ]
          },
          "metadata": {},
          "execution_count": 45
        }
      ]
    },
    {
      "cell_type": "markdown",
      "source": [
        "# Conclusion"
      ],
      "metadata": {
        "id": "1ebC-bJi9Ufv"
      },
      "id": "1ebC-bJi9Ufv"
    },
    {
      "cell_type": "markdown",
      "source": [
        "- Based on forecasting from the xgb model that has been made, an rmsle value of 0.39 is obtained which indicates a small error. \n",
        "\n",
        "- In addition, the model score obtained is very high, namely 91.62% so that this model can properly explain the diversity of the data and can produce fairly accurate predictions."
      ],
      "metadata": {
        "id": "ITiRlrvy9_Tn"
      },
      "id": "ITiRlrvy9_Tn"
    },
    {
      "cell_type": "code",
      "source": [],
      "metadata": {
        "id": "7RpNwz9V-CW_"
      },
      "id": "7RpNwz9V-CW_",
      "execution_count": null,
      "outputs": []
    }
  ],
  "metadata": {
    "colab": {
      "provenance": []
    },
    "kernelspec": {
      "display_name": "Python 3 (ipykernel)",
      "language": "python",
      "name": "python3"
    },
    "language_info": {
      "codemirror_mode": {
        "name": "ipython",
        "version": 3
      },
      "file_extension": ".py",
      "mimetype": "text/x-python",
      "name": "python",
      "nbconvert_exporter": "python",
      "pygments_lexer": "ipython3",
      "version": "3.9.12"
    }
  },
  "nbformat": 4,
  "nbformat_minor": 5
}